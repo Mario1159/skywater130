{
 "cells": [
  {
   "cell_type": "markdown",
   "id": "97cc6346",
   "metadata": {},
   "source": [
    "# Layout\n",
    "\n",
    "## Layout driven flow\n",
    "\n",
    "You can import the PDK and layout any of the standard cells"
   ]
  },
  {
   "cell_type": "code",
   "execution_count": null,
   "id": "53115118",
   "metadata": {},
   "outputs": [],
   "source": [
    "import gdsfactory as gf\n",
    "import sky130\n",
    "import sky130.components as sc\n",
    "import sky130.tech as st"
   ]
  },
  {
   "cell_type": "code",
   "execution_count": null,
   "id": "d3903482",
   "metadata": {},
   "outputs": [],
   "source": [
    "c = sc.sky130_fd_sc_hd__a2111o_1()\n",
    "c"
   ]
  },
  {
   "cell_type": "code",
   "execution_count": null,
   "id": "70ca3a99",
   "metadata": {},
   "outputs": [],
   "source": [
    "scene = c.to_3d()\n",
    "scene.show()"
   ]
  },
  {
   "cell_type": "markdown",
   "id": "e0d1a00c",
   "metadata": {},
   "source": [
    "TODO: add Parametric cells natively into gdsfactory `sky130` pdk."
   ]
  },
  {
   "cell_type": "code",
   "execution_count": null,
   "id": "1bc90849",
   "metadata": {},
   "outputs": [],
   "source": [
    "c = gf.Component()\n",
    "g1 = c << sc.sky130_fd_sc_hd__a2111o_1()\n",
    "g2 = c << sc.sky130_fd_sc_hd__a311oi_4()\n",
    "g2.move((15, 10))\n",
    "c"
   ]
  },
  {
   "cell_type": "code",
   "execution_count": null,
   "id": "fe12f51a",
   "metadata": {},
   "outputs": [],
   "source": [
    "c = gf.Component(\"demo_connect\")\n",
    "g1 = c << sc.sky130_fd_sc_hd__a2111o_1()\n",
    "g2 = c << sc.sky130_fd_sc_hd__a311oi_4()\n",
    "g2.move((15, 10))\n",
    "route = gf.routing.get_route_electrical(\n",
    "    g1.ports[\"VPWR\"], g2.ports[\"VPWR\"], cross_section=st.xs_metal1\n",
    ")\n",
    "c.add(route.references)\n",
    "c"
   ]
  },
  {
   "cell_type": "code",
   "execution_count": null,
   "id": "66050b33",
   "metadata": {},
   "outputs": [],
   "source": [
    "scene = c.to_3d()\n",
    "scene.show()"
   ]
  },
  {
   "cell_type": "markdown",
   "id": "f23ba1f9",
   "metadata": {},
   "source": [
    "## Netlist driven flow\n",
    "\n",
    "For netlist driven flow you can define circuits for place and route. You have two options:\n",
    "\n",
    "1. in python\n",
    "2. in YAML"
   ]
  },
  {
   "cell_type": "markdown",
   "id": "5f39b59b",
   "metadata": {},
   "source": [
    "## Spice simulations\n",
    "\n",
    "You can use `PySpice` for running simulations.\n",
    "\n",
    "gdsfactory can extract the netlist and simulate the circuit.\n",
    "\n",
    "TODO: add some relevant examples."
   ]
  }
 ],
 "metadata": {
  "kernelspec": {
   "display_name": "Python 3 (ipykernel)",
   "language": "python",
   "name": "python3"
  },
  "language_info": {
   "codemirror_mode": {
    "name": "ipython",
    "version": 3
   },
   "file_extension": ".py",
   "mimetype": "text/x-python",
   "name": "python",
   "nbconvert_exporter": "python",
   "pygments_lexer": "ipython3",
   "version": "3.10.6"
  }
 },
 "nbformat": 4,
 "nbformat_minor": 5
}
